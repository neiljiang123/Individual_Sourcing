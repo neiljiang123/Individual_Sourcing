{
 "cells": [
  {
   "cell_type": "code",
   "execution_count": 1,
   "id": "8d50fb1f",
   "metadata": {},
   "outputs": [
    {
     "name": "stdout",
     "output_type": "stream",
     "text": [
      "Requirement already satisfied: tabulate in d:\\anaconda\\anaconda3\\lib\\site-packages (0.8.10)\n"
     ]
    }
   ],
   "source": [
    "!pip install tabulate"
   ]
  },
  {
   "cell_type": "code",
   "execution_count": 1,
   "id": "b3bf4b33",
   "metadata": {},
   "outputs": [],
   "source": [
    "import numpy as np\n",
    "from tabulate import tabulate\n"
   ]
  },
  {
   "cell_type": "code",
   "execution_count": null,
   "id": "a841f446",
   "metadata": {},
   "outputs": [],
   "source": [
    "# Scenario 1: No Aggregation"
   ]
  },
  {
   "cell_type": "code",
   "execution_count": 2,
   "id": "8f028377",
   "metadata": {},
   "outputs": [
    {
     "name": "stdout",
     "output_type": "stream",
     "text": [
      "+-----------+--------------------+-------------------------+---------------------+--------------------+\n",
      "|  Product  |     Optimal Q      | Time Between Orders (T) | Order Frequency (N) |    Holding Cost    |\n",
      "+-----------+--------------------+-------------------------+---------------------+--------------------+\n",
      "| Product 1 | 148.32396974191326 |   0.14832396974191325   |  6.741998624632421  | 741.6198487095663  |\n",
      "| Product 2 | 77.45966692414834  |   0.2581988897471611    | 3.8729833462074175  |  464.75800154489   |\n",
      "| Product 3 | 64.54972243679029  |   0.6454972243679029    | 1.5491933384829666  | 193.64916731037087 |\n",
      "| Product 4 | 45.64354645876384  |   0.9128709291752769    | 1.0954451150103321  | 136.93063937629154 |\n",
      "+-----------+--------------------+-------------------------+---------------------+--------------------+\n",
      "Total Annual Cost: $3073.92\n"
     ]
    }
   ],
   "source": [
    "# Given data\n",
    "demands = np.array([1000, 300, 100, 50])\n",
    "ordering_costs = np.array([110, 120, 125, 125]) \n",
    "unit_costs = np.array([50, 60, 30, 30])\n",
    "holding_cost_rates = np.array([0.2, 0.2, 0.2, 0.2])\n",
    "annual_demand = np.sum(demands)\n",
    "\n",
    "# Initialize lists to store results\n",
    "Optimal_Q = []\n",
    "T = []\n",
    "N = []\n",
    "Holding_Cost = []\n",
    "\n",
    "# Calculation loop\n",
    "for i in range(4):\n",
    "    D = demands[i]\n",
    "    S = ordering_costs[i]\n",
    "    H = holding_cost_rates[i] * unit_costs[i]\n",
    "    Q = np.sqrt((2 * D * S) / H)\n",
    "    Optimal_Q.append(Q)\n",
    "    T_i = Q / D\n",
    "    T.append(T_i)\n",
    "    N_i = 1 / T_i\n",
    "    N.append(N_i)\n",
    "    Holding_Cost_i = (Q / 2) * H\n",
    "    Holding_Cost.append(Holding_Cost_i)\n",
    "\n",
    "# Store result in table format\n",
    "opt_results = [[\"Product {}\".format(i+1), Optimal_Q[i], T[i], N[i], Holding_Cost[i]] for i in range(4)]\n",
    "headers = [\"Product\", \"Optimal Q\", \"Time Between Orders (T)\", \"Order Frequency (N)\", \"Holding Cost\"]\n",
    "\n",
    "# Print the table\n",
    "print(tabulate(opt_results, headers=headers, tablefmt=\"pretty\", numalign=\"right\"))\n",
    "\n",
    "# Annual Cost Calculation\n",
    "Ordering_Cost = sum(demands / Optimal_Q * ordering_costs)\n",
    "Total_Holding_Cost = sum(Holding_Cost)  # Already calculated in the loop\n",
    "\n",
    "Total_Annual_Cost_1 = Ordering_Cost + Total_Holding_Cost\n",
    "\n",
    "print(f\"Total Annual Cost: ${Total_Annual_Cost_1:.2f}\")"
   ]
  },
  {
   "cell_type": "code",
   "execution_count": null,
   "id": "9968c367",
   "metadata": {},
   "outputs": [],
   "source": [
    "# Scenario 2: Complete Aggregation"
   ]
  },
  {
   "cell_type": "code",
   "execution_count": 3,
   "id": "077c66cf",
   "metadata": {},
   "outputs": [
    {
     "name": "stdout",
     "output_type": "stream",
     "text": [
      "Order Frequency (n) under Complete Aggregation: 7.77\n",
      "Total Annual Cost under Complete Aggregation: $1865.48\n",
      "+-----------+--------------------+-------------------------+---------------------+--------------------+\n",
      "|  Product  |     Optimal Q      | Time Between Orders (T) | Order Frequency (N) |    Holding Cost    |\n",
      "+-----------+--------------------+-------------------------+---------------------+--------------------+\n",
      "| Product 1 | 128.65350418053538 |    7.772815877574013    |  7.772815877574012  | 643.2675209026769  |\n",
      "| Product 2 | 38.596051254160614 |    7.772815877574013    |  7.772815877574012  | 231.5763075249637  |\n",
      "| Product 3 | 12.865350418053538 |    7.772815877574013    |  7.772815877574012  | 38.596051254160614 |\n",
      "| Product 4 | 6.432675209026769  |    7.772815877574013    |  7.772815877574012  | 19.298025627080307 |\n",
      "+-----------+--------------------+-------------------------+---------------------+--------------------+\n"
     ]
    }
   ],
   "source": [
    "# Common ordering cost S, using the average of the provided ordering costs for simplification\n",
    "S = np.mean(ordering_costs)\n",
    "\n",
    "# Calculate the numerator of the formula for n\n",
    "numerator = sum(demands * holding_cost_rates * unit_costs)\n",
    "\n",
    "# Calculate n for complete aggregation\n",
    "n = np.sqrt(numerator / (2 * S))\n",
    "\n",
    "# Calculate total holding cost and ordering cost under complete aggregation\n",
    "# Assuming optimal order quantity Q for each product based on n\n",
    "Optimal_Q = demands / n\n",
    "Total_Holding_Cost = sum((Optimal_Q / 2) * holding_cost_rates * unit_costs)\n",
    "Total_Ordering_Cost = n * S\n",
    "\n",
    "\n",
    "# Total Annual Cost\n",
    "Total_Annual_Cost_2 = Total_Ordering_Cost + Total_Holding_Cost\n",
    "\n",
    "# Display results\n",
    "print(f\"Order Frequency (n) under Complete Aggregation: {n:.2f}\")\n",
    "print(f\"Total Annual Cost under Complete Aggregation: ${Total_Annual_Cost_2:.2f}\")\n",
    "\n",
    "# For displaying each product's details in a table\n",
    "opt_results_aggregated = [[\"Product {}\".format(i+1), Optimal_Q[i], demands[i] / Optimal_Q[i], n, (Optimal_Q[i] / 2) * holding_cost_rates[i] * unit_costs[i]] for i in range(4)]\n",
    "headers_aggregated = [\"Product\", \"Optimal Q\", \"Time Between Orders (T)\", \"Order Frequency (N)\", \"Holding Cost\"]\n",
    "\n",
    "# Print the table for Complete Aggregation\n",
    "print(tabulate(opt_results_aggregated, headers=headers_aggregated, tablefmt=\"pretty\", numalign=\"right\"))"
   ]
  },
  {
   "cell_type": "code",
   "execution_count": null,
   "id": "cd4e8240",
   "metadata": {},
   "outputs": [],
   "source": [
    "# Scenario 3: Tailored Aggregation"
   ]
  },
  {
   "cell_type": "code",
   "execution_count": 4,
   "id": "5b6f4247",
   "metadata": {},
   "outputs": [
    {
     "name": "stdout",
     "output_type": "stream",
     "text": [
      "Recalculated Order Frequency (n): 6.346477588219924\n",
      "Adjusted Order Quantities: [157.56771943  47.27031583  15.75677194   7.87838597]\n",
      "Total Annual Cost: $1777.01\n"
     ]
    }
   ],
   "source": [
    "# Given data\n",
    "demands = np.array([1000, 300, 100, 50])\n",
    "specific_ordering_costs = np.array([10, 20, 25, 25])\n",
    "common_ordering_cost = 100\n",
    "unit_costs = np.array([50, 60, 30, 30])\n",
    "holding_cost_rates = np.array([0.2, 0.2, 0.2, 0.2])\n",
    "\n",
    "# Step 1: Calculate independent ordering frequencies for each product (assuming EOQ)\n",
    "independent_frequencies = np.sqrt((2 * demands * specific_ordering_costs) / (holding_cost_rates * unit_costs))\n",
    "\n",
    "# Identify the most frequently ordered product (highest frequency or demand)\n",
    "most_frequently_ordered_index = np.argmax(independent_frequencies)\n",
    "most_frequently_ordered_demand = demands[most_frequently_ordered_index]\n",
    "\n",
    "# Step 2 & 3: Recompute frequencies for all products using their specific ordering costs and determine mi\n",
    "mi = np.ceil(demands / most_frequently_ordered_demand)\n",
    "\n",
    "# Step 4: Recalculate ordering frequency n for the most frequently ordered product\n",
    "numerator = np.sum(holding_cost_rates * unit_costs * demands * mi)\n",
    "denominator = 2 * (common_ordering_cost + np.sum(specific_ordering_costs * mi))\n",
    "n = np.sqrt(numerator / denominator)\n",
    "\n",
    "# Calculate the adjusted order quantities based on the recalculated frequency n\n",
    "adjusted_order_quantities = demands / n\n",
    "\n",
    "# Calculate total costs\n",
    "Ordering_Cost = n * common_ordering_cost  # Assuming one order per cycle for all products together\n",
    "Holding_Cost = np.sum((adjusted_order_quantities / 2) * holding_cost_rates * unit_costs)\n",
    "\n",
    "Total_Annual_Cost_3 = Ordering_Cost + Holding_Cost\n",
    "\n",
    "# Output results\n",
    "print(f\"Recalculated Order Frequency (n): {n}\")\n",
    "print(f\"Adjusted Order Quantities: {adjusted_order_quantities}\")\n",
    "print(f\"Total Annual Cost: ${Total_Annual_Cost_3:.2f}\")"
   ]
  },
  {
   "cell_type": "code",
   "execution_count": 5,
   "id": "82ba58f4",
   "metadata": {},
   "outputs": [
    {
     "name": "stdout",
     "output_type": "stream",
     "text": [
      "+----------------------+-------------------+\n",
      "|       Scenario       | Total Annual Cost |\n",
      "+----------------------+-------------------+\n",
      "|    No Aggregation    |     $3,073.92     |\n",
      "| Complete Aggregation |     $1,865.48     |\n",
      "| Tailored Aggregation |     $1,777.01     |\n",
      "+----------------------+-------------------+\n"
     ]
    }
   ],
   "source": [
    "# Create a list of lists for the table data\n",
    "comparison_data = [\n",
    "    [\"No Aggregation\", f\"${Total_Annual_Cost_1:,.2f}\"],\n",
    "    [\"Complete Aggregation\", f\"${Total_Annual_Cost_2:,.2f}\"],\n",
    "    [\"Tailored Aggregation\", f\"${Total_Annual_Cost_3:,.2f}\"],\n",
    "]\n",
    "\n",
    "# Define headers for the table\n",
    "headers = [\"Scenario\", \"Total Annual Cost\"]\n",
    "\n",
    "# Create and print the table\n",
    "print(tabulate(comparison_data, headers=headers, tablefmt=\"pretty\"))"
   ]
  },
  {
   "cell_type": "code",
   "execution_count": null,
   "id": "8a4022da",
   "metadata": {},
   "outputs": [],
   "source": []
  }
 ],
 "metadata": {
  "kernelspec": {
   "display_name": "Python 3 (ipykernel)",
   "language": "python",
   "name": "python3"
  },
  "language_info": {
   "codemirror_mode": {
    "name": "ipython",
    "version": 3
   },
   "file_extension": ".py",
   "mimetype": "text/x-python",
   "name": "python",
   "nbconvert_exporter": "python",
   "pygments_lexer": "ipython3",
   "version": "3.11.5"
  }
 },
 "nbformat": 4,
 "nbformat_minor": 5
}
